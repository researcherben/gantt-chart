{
 "cells": [
  {
   "cell_type": "markdown",
   "id": "e2157a29-4314-4ed3-914b-3f51870617c8",
   "metadata": {},
   "source": [
    "# draw a Gantt chart using Python"
   ]
  },
  {
   "cell_type": "code",
   "execution_count": 1,
   "id": "f15e69b8-ad54-4fc4-a10b-6bf1e9d3a47b",
   "metadata": {},
   "outputs": [
    {
     "name": "stdout",
     "output_type": "stream",
     "text": [
      "1.3.3\n",
      "3.4.3\n",
      "3.9.6 | packaged by conda-forge | (default, Jul 11 2021, 03:39:48) \n",
      "[GCC 9.3.0]\n"
     ]
    }
   ],
   "source": [
    "import pandas\n",
    "print(pandas.__version__)\n",
    "import matplotlib.pyplot as plt\n",
    "import matplotlib\n",
    "print(matplotlib. __version__)\n",
    "import datetime\n",
    "import random\n",
    "import time\n",
    "import pickle\n",
    "import sys\n",
    "print(sys.version)"
   ]
  },
  {
   "cell_type": "code",
   "execution_count": 2,
   "id": "b166654b-6bcd-40db-8b14-771db8053d03",
   "metadata": {},
   "outputs": [],
   "source": [
    "# https://wiki.python.org/moin/UsingPickle\n",
    "\n",
    "with open(\"project.pkl\", \"rb\") as file_handle:\n",
    "    df = pickle.load( file_handle )"
   ]
  },
  {
   "cell_type": "code",
   "execution_count": 3,
   "id": "238cc951-fa7d-4348-b0ae-e55c941f27bb",
   "metadata": {},
   "outputs": [
    {
     "data": {
      "text/html": [
       "<div>\n",
       "<style scoped>\n",
       "    .dataframe tbody tr th:only-of-type {\n",
       "        vertical-align: middle;\n",
       "    }\n",
       "\n",
       "    .dataframe tbody tr th {\n",
       "        vertical-align: top;\n",
       "    }\n",
       "\n",
       "    .dataframe thead th {\n",
       "        text-align: right;\n",
       "    }\n",
       "</style>\n",
       "<table border=\"1\" class=\"dataframe\">\n",
       "  <thead>\n",
       "    <tr style=\"text-align: right;\">\n",
       "      <th></th>\n",
       "      <th>ID</th>\n",
       "      <th>Duration in days</th>\n",
       "      <th>predecessor ID</th>\n",
       "      <th>successor ID</th>\n",
       "      <th>predecessor category</th>\n",
       "      <th>successor category</th>\n",
       "      <th>predecessor change in days</th>\n",
       "      <th>successor change in days</th>\n",
       "    </tr>\n",
       "  </thead>\n",
       "  <tbody>\n",
       "    <tr>\n",
       "      <th>0</th>\n",
       "      <td>1</td>\n",
       "      <td>5</td>\n",
       "      <td>NaN</td>\n",
       "      <td>2</td>\n",
       "      <td>NaN</td>\n",
       "      <td>NaN</td>\n",
       "      <td>NaN</td>\n",
       "      <td>23.0</td>\n",
       "    </tr>\n",
       "    <tr>\n",
       "      <th>0</th>\n",
       "      <td>1</td>\n",
       "      <td>5</td>\n",
       "      <td>NaN</td>\n",
       "      <td>3</td>\n",
       "      <td>NaN</td>\n",
       "      <td>start-to-finish</td>\n",
       "      <td>NaN</td>\n",
       "      <td>8.0</td>\n",
       "    </tr>\n",
       "    <tr>\n",
       "      <th>1</th>\n",
       "      <td>2</td>\n",
       "      <td>12</td>\n",
       "      <td>5</td>\n",
       "      <td>4</td>\n",
       "      <td>NaN</td>\n",
       "      <td>NaN</td>\n",
       "      <td>NaN</td>\n",
       "      <td>NaN</td>\n",
       "    </tr>\n",
       "    <tr>\n",
       "      <th>2</th>\n",
       "      <td>3</td>\n",
       "      <td>6</td>\n",
       "      <td>4</td>\n",
       "      <td>NaN</td>\n",
       "      <td>finish-to-start</td>\n",
       "      <td>NaN</td>\n",
       "      <td>20.0</td>\n",
       "      <td>NaN</td>\n",
       "    </tr>\n",
       "    <tr>\n",
       "      <th>3</th>\n",
       "      <td>4</td>\n",
       "      <td>10</td>\n",
       "      <td>NaN</td>\n",
       "      <td>NaN</td>\n",
       "      <td>NaN</td>\n",
       "      <td>NaN</td>\n",
       "      <td>NaN</td>\n",
       "      <td>NaN</td>\n",
       "    </tr>\n",
       "  </tbody>\n",
       "</table>\n",
       "</div>"
      ],
      "text/plain": [
       "   ID  Duration in days predecessor ID successor ID predecessor category  \\\n",
       "0   1                 5            NaN            2                  NaN   \n",
       "0   1                 5            NaN            3                  NaN   \n",
       "1   2                12              5            4                  NaN   \n",
       "2   3                 6              4          NaN      finish-to-start   \n",
       "3   4                10            NaN          NaN                  NaN   \n",
       "\n",
       "  successor category  predecessor change in days  successor change in days  \n",
       "0                NaN                         NaN                      23.0  \n",
       "0    start-to-finish                         NaN                       8.0  \n",
       "1                NaN                         NaN                       NaN  \n",
       "2                NaN                        20.0                       NaN  \n",
       "3                NaN                         NaN                       NaN  "
      ]
     },
     "execution_count": 3,
     "metadata": {},
     "output_type": "execute_result"
    }
   ],
   "source": [
    "df"
   ]
  },
  {
   "cell_type": "code",
   "execution_count": 4,
   "id": "47e98a7e-e418-486f-a088-50c6df0498a1",
   "metadata": {},
   "outputs": [],
   "source": [
    "# https://towardsdatascience.com/create-new-column-based-on-other-columns-pandas-5586d87de73d\n",
    "\n",
    "def set_max(row, max_min_task_dict):\n",
    "    return int(row['Duration in days'])+max_min_task_dict[row['ID']][1]\n",
    "    \n",
    "def set_min(row, max_min_task_dict):\n",
    "    \"\"\"\n",
    "    if initial value is zero we don't want to decrease that\n",
    "    \"\"\"\n",
    "    return max(int(row['Duration in days'])-max_min_task_dict[row['ID']][0], 0)"
   ]
  },
  {
   "cell_type": "code",
   "execution_count": 5,
   "id": "fb71c116-74af-49a2-9768-1ae1e4387b33",
   "metadata": {},
   "outputs": [],
   "source": [
    "# the error is per task, not per row\n",
    "# create a lookup table of per-task errors\n",
    "\n",
    "max_min_task_dict = {}\n",
    "for task_id in df['ID'].unique():\n",
    "                                    # subtract by          # add to\n",
    "    max_min_task_dict[task_id] = (random.randrange(1,3), random.randrange(1,3))"
   ]
  },
  {
   "cell_type": "code",
   "execution_count": 6,
   "id": "81945a72-a6f6-4eb6-851c-a631d706aa48",
   "metadata": {},
   "outputs": [
    {
     "data": {
      "text/plain": [
       "{1: (1, 1), 2: (2, 2), 3: (1, 1), 4: (1, 2)}"
      ]
     },
     "execution_count": 6,
     "metadata": {},
     "output_type": "execute_result"
    }
   ],
   "source": [
    "max_min_task_dict"
   ]
  },
  {
   "cell_type": "code",
   "execution_count": 7,
   "id": "2757f7a8-aa3d-490e-b8e1-bbd1a9e296f5",
   "metadata": {},
   "outputs": [],
   "source": [
    "# use the lookup table to add two columns\n",
    "\n",
    "df['Duration min'] = df.apply(lambda row: set_min(row, max_min_task_dict), axis=1)\n",
    "df['Duration max'] = df.apply(lambda row: set_max(row, max_min_task_dict), axis=1)"
   ]
  },
  {
   "cell_type": "code",
   "execution_count": 8,
   "id": "8bac2e92-a75d-446c-afe8-c0111ef2f59f",
   "metadata": {},
   "outputs": [
    {
     "data": {
      "text/html": [
       "<div>\n",
       "<style scoped>\n",
       "    .dataframe tbody tr th:only-of-type {\n",
       "        vertical-align: middle;\n",
       "    }\n",
       "\n",
       "    .dataframe tbody tr th {\n",
       "        vertical-align: top;\n",
       "    }\n",
       "\n",
       "    .dataframe thead th {\n",
       "        text-align: right;\n",
       "    }\n",
       "</style>\n",
       "<table border=\"1\" class=\"dataframe\">\n",
       "  <thead>\n",
       "    <tr style=\"text-align: right;\">\n",
       "      <th></th>\n",
       "      <th>ID</th>\n",
       "      <th>Duration in days</th>\n",
       "      <th>predecessor ID</th>\n",
       "      <th>successor ID</th>\n",
       "      <th>predecessor category</th>\n",
       "      <th>successor category</th>\n",
       "      <th>predecessor change in days</th>\n",
       "      <th>successor change in days</th>\n",
       "      <th>Duration min</th>\n",
       "      <th>Duration max</th>\n",
       "    </tr>\n",
       "  </thead>\n",
       "  <tbody>\n",
       "    <tr>\n",
       "      <th>0</th>\n",
       "      <td>1</td>\n",
       "      <td>5</td>\n",
       "      <td>NaN</td>\n",
       "      <td>2</td>\n",
       "      <td>NaN</td>\n",
       "      <td>NaN</td>\n",
       "      <td>NaN</td>\n",
       "      <td>23.0</td>\n",
       "      <td>4</td>\n",
       "      <td>6</td>\n",
       "    </tr>\n",
       "    <tr>\n",
       "      <th>0</th>\n",
       "      <td>1</td>\n",
       "      <td>5</td>\n",
       "      <td>NaN</td>\n",
       "      <td>3</td>\n",
       "      <td>NaN</td>\n",
       "      <td>start-to-finish</td>\n",
       "      <td>NaN</td>\n",
       "      <td>8.0</td>\n",
       "      <td>4</td>\n",
       "      <td>6</td>\n",
       "    </tr>\n",
       "    <tr>\n",
       "      <th>1</th>\n",
       "      <td>2</td>\n",
       "      <td>12</td>\n",
       "      <td>5</td>\n",
       "      <td>4</td>\n",
       "      <td>NaN</td>\n",
       "      <td>NaN</td>\n",
       "      <td>NaN</td>\n",
       "      <td>NaN</td>\n",
       "      <td>10</td>\n",
       "      <td>14</td>\n",
       "    </tr>\n",
       "    <tr>\n",
       "      <th>2</th>\n",
       "      <td>3</td>\n",
       "      <td>6</td>\n",
       "      <td>4</td>\n",
       "      <td>NaN</td>\n",
       "      <td>finish-to-start</td>\n",
       "      <td>NaN</td>\n",
       "      <td>20.0</td>\n",
       "      <td>NaN</td>\n",
       "      <td>5</td>\n",
       "      <td>7</td>\n",
       "    </tr>\n",
       "    <tr>\n",
       "      <th>3</th>\n",
       "      <td>4</td>\n",
       "      <td>10</td>\n",
       "      <td>NaN</td>\n",
       "      <td>NaN</td>\n",
       "      <td>NaN</td>\n",
       "      <td>NaN</td>\n",
       "      <td>NaN</td>\n",
       "      <td>NaN</td>\n",
       "      <td>9</td>\n",
       "      <td>12</td>\n",
       "    </tr>\n",
       "  </tbody>\n",
       "</table>\n",
       "</div>"
      ],
      "text/plain": [
       "   ID  Duration in days predecessor ID successor ID predecessor category  \\\n",
       "0   1                 5            NaN            2                  NaN   \n",
       "0   1                 5            NaN            3                  NaN   \n",
       "1   2                12              5            4                  NaN   \n",
       "2   3                 6              4          NaN      finish-to-start   \n",
       "3   4                10            NaN          NaN                  NaN   \n",
       "\n",
       "  successor category  predecessor change in days  successor change in days  \\\n",
       "0                NaN                         NaN                      23.0   \n",
       "0    start-to-finish                         NaN                       8.0   \n",
       "1                NaN                         NaN                       NaN   \n",
       "2                NaN                        20.0                       NaN   \n",
       "3                NaN                         NaN                       NaN   \n",
       "\n",
       "   Duration min  Duration max  \n",
       "0             4             6  \n",
       "0             4             6  \n",
       "1            10            14  \n",
       "2             5             7  \n",
       "3             9            12  "
      ]
     },
     "execution_count": 8,
     "metadata": {},
     "output_type": "execute_result"
    }
   ],
   "source": [
    "df"
   ]
  },
  {
   "cell_type": "markdown",
   "id": "cbc8c205-7f29-466e-b70c-5889b9e4d35c",
   "metadata": {},
   "source": [
    "## instance of schedule"
   ]
  },
  {
   "cell_type": "code",
   "execution_count": 9,
   "id": "9561035b-1c6c-42db-a50c-5fcf9f994680",
   "metadata": {},
   "outputs": [
    {
     "data": {
      "text/plain": [
       "array([6, 6])"
      ]
     },
     "execution_count": 9,
     "metadata": {},
     "output_type": "execute_result"
    }
   ],
   "source": [
    "df[df['ID']==1]['Duration max'].values"
   ]
  },
  {
   "cell_type": "code",
   "execution_count": 10,
   "id": "06e4fa0b-a209-451c-84dc-66c828044037",
   "metadata": {},
   "outputs": [],
   "source": [
    "actual_task_duration_dict = {}\n",
    "for task_id in df['ID'].unique():\n",
    "    max_duration_this_task = df[df['ID']==task_id]['Duration max'].values[0]\n",
    "    min_duration_this_task = df[df['ID']==task_id]['Duration min'].values[0]\n",
    "    \n",
    "    actual_task_duration_dict[task_id] = random.randrange(min_duration_this_task,max_duration_this_task)\n",
    "    "
   ]
  },
  {
   "cell_type": "code",
   "execution_count": 11,
   "id": "4ff1263f-0e58-41f1-a8c0-a5115d0dbdf3",
   "metadata": {},
   "outputs": [],
   "source": [
    "def pick_actual_duration(row, actual_task_duration_dict):\n",
    "    return actual_task_duration_dict[row['ID']]"
   ]
  },
  {
   "cell_type": "code",
   "execution_count": 12,
   "id": "bc964e72-5d9e-4b70-8774-faf67d57274d",
   "metadata": {},
   "outputs": [],
   "source": [
    "df['Duration actual in days'] = df.apply(lambda row: pick_actual_duration(row, actual_task_duration_dict), axis=1)"
   ]
  },
  {
   "cell_type": "code",
   "execution_count": 13,
   "id": "bf09c94b-a4da-4b1d-abdf-60c0a55ed815",
   "metadata": {},
   "outputs": [
    {
     "data": {
      "text/html": [
       "<div>\n",
       "<style scoped>\n",
       "    .dataframe tbody tr th:only-of-type {\n",
       "        vertical-align: middle;\n",
       "    }\n",
       "\n",
       "    .dataframe tbody tr th {\n",
       "        vertical-align: top;\n",
       "    }\n",
       "\n",
       "    .dataframe thead th {\n",
       "        text-align: right;\n",
       "    }\n",
       "</style>\n",
       "<table border=\"1\" class=\"dataframe\">\n",
       "  <thead>\n",
       "    <tr style=\"text-align: right;\">\n",
       "      <th></th>\n",
       "      <th>ID</th>\n",
       "      <th>Duration in days</th>\n",
       "      <th>predecessor ID</th>\n",
       "      <th>successor ID</th>\n",
       "      <th>predecessor category</th>\n",
       "      <th>successor category</th>\n",
       "      <th>predecessor change in days</th>\n",
       "      <th>successor change in days</th>\n",
       "      <th>Duration min</th>\n",
       "      <th>Duration max</th>\n",
       "      <th>Duration actual in days</th>\n",
       "    </tr>\n",
       "  </thead>\n",
       "  <tbody>\n",
       "    <tr>\n",
       "      <th>0</th>\n",
       "      <td>1</td>\n",
       "      <td>5</td>\n",
       "      <td>NaN</td>\n",
       "      <td>2</td>\n",
       "      <td>NaN</td>\n",
       "      <td>NaN</td>\n",
       "      <td>NaN</td>\n",
       "      <td>23.0</td>\n",
       "      <td>4</td>\n",
       "      <td>6</td>\n",
       "      <td>5</td>\n",
       "    </tr>\n",
       "    <tr>\n",
       "      <th>0</th>\n",
       "      <td>1</td>\n",
       "      <td>5</td>\n",
       "      <td>NaN</td>\n",
       "      <td>3</td>\n",
       "      <td>NaN</td>\n",
       "      <td>start-to-finish</td>\n",
       "      <td>NaN</td>\n",
       "      <td>8.0</td>\n",
       "      <td>4</td>\n",
       "      <td>6</td>\n",
       "      <td>5</td>\n",
       "    </tr>\n",
       "    <tr>\n",
       "      <th>1</th>\n",
       "      <td>2</td>\n",
       "      <td>12</td>\n",
       "      <td>5</td>\n",
       "      <td>4</td>\n",
       "      <td>NaN</td>\n",
       "      <td>NaN</td>\n",
       "      <td>NaN</td>\n",
       "      <td>NaN</td>\n",
       "      <td>10</td>\n",
       "      <td>14</td>\n",
       "      <td>13</td>\n",
       "    </tr>\n",
       "    <tr>\n",
       "      <th>2</th>\n",
       "      <td>3</td>\n",
       "      <td>6</td>\n",
       "      <td>4</td>\n",
       "      <td>NaN</td>\n",
       "      <td>finish-to-start</td>\n",
       "      <td>NaN</td>\n",
       "      <td>20.0</td>\n",
       "      <td>NaN</td>\n",
       "      <td>5</td>\n",
       "      <td>7</td>\n",
       "      <td>6</td>\n",
       "    </tr>\n",
       "    <tr>\n",
       "      <th>3</th>\n",
       "      <td>4</td>\n",
       "      <td>10</td>\n",
       "      <td>NaN</td>\n",
       "      <td>NaN</td>\n",
       "      <td>NaN</td>\n",
       "      <td>NaN</td>\n",
       "      <td>NaN</td>\n",
       "      <td>NaN</td>\n",
       "      <td>9</td>\n",
       "      <td>12</td>\n",
       "      <td>9</td>\n",
       "    </tr>\n",
       "  </tbody>\n",
       "</table>\n",
       "</div>"
      ],
      "text/plain": [
       "   ID  Duration in days predecessor ID successor ID predecessor category  \\\n",
       "0   1                 5            NaN            2                  NaN   \n",
       "0   1                 5            NaN            3                  NaN   \n",
       "1   2                12              5            4                  NaN   \n",
       "2   3                 6              4          NaN      finish-to-start   \n",
       "3   4                10            NaN          NaN                  NaN   \n",
       "\n",
       "  successor category  predecessor change in days  successor change in days  \\\n",
       "0                NaN                         NaN                      23.0   \n",
       "0    start-to-finish                         NaN                       8.0   \n",
       "1                NaN                         NaN                       NaN   \n",
       "2                NaN                        20.0                       NaN   \n",
       "3                NaN                         NaN                       NaN   \n",
       "\n",
       "   Duration min  Duration max  Duration actual in days  \n",
       "0             4             6                        5  \n",
       "0             4             6                        5  \n",
       "1            10            14                       13  \n",
       "2             5             7                        6  \n",
       "3             9            12                        9  "
      ]
     },
     "execution_count": 13,
     "metadata": {},
     "output_type": "execute_result"
    }
   ],
   "source": [
    "df"
   ]
  },
  {
   "cell_type": "code",
   "execution_count": 14,
   "id": "2f9b92f5-07b3-43c4-9409-31a0898d37b1",
   "metadata": {},
   "outputs": [],
   "source": [
    "df=df.drop(columns=[\"Duration in days\", \"predecessor ID\", \n",
    "                    \"predecessor category\", \"successor category\", \n",
    "                    \"predecessor change in days\", \"successor change in days\", \n",
    "                    \"Duration min\", \"Duration max\"])"
   ]
  },
  {
   "cell_type": "code",
   "execution_count": 15,
   "id": "07ef39b7-d04a-4bda-8b8f-203658bbd8fb",
   "metadata": {},
   "outputs": [
    {
     "data": {
      "text/html": [
       "<div>\n",
       "<style scoped>\n",
       "    .dataframe tbody tr th:only-of-type {\n",
       "        vertical-align: middle;\n",
       "    }\n",
       "\n",
       "    .dataframe tbody tr th {\n",
       "        vertical-align: top;\n",
       "    }\n",
       "\n",
       "    .dataframe thead th {\n",
       "        text-align: right;\n",
       "    }\n",
       "</style>\n",
       "<table border=\"1\" class=\"dataframe\">\n",
       "  <thead>\n",
       "    <tr style=\"text-align: right;\">\n",
       "      <th></th>\n",
       "      <th>ID</th>\n",
       "      <th>successor ID</th>\n",
       "      <th>Duration actual in days</th>\n",
       "    </tr>\n",
       "  </thead>\n",
       "  <tbody>\n",
       "    <tr>\n",
       "      <th>0</th>\n",
       "      <td>1</td>\n",
       "      <td>2</td>\n",
       "      <td>5</td>\n",
       "    </tr>\n",
       "    <tr>\n",
       "      <th>0</th>\n",
       "      <td>1</td>\n",
       "      <td>3</td>\n",
       "      <td>5</td>\n",
       "    </tr>\n",
       "    <tr>\n",
       "      <th>1</th>\n",
       "      <td>2</td>\n",
       "      <td>4</td>\n",
       "      <td>13</td>\n",
       "    </tr>\n",
       "    <tr>\n",
       "      <th>2</th>\n",
       "      <td>3</td>\n",
       "      <td>NaN</td>\n",
       "      <td>6</td>\n",
       "    </tr>\n",
       "    <tr>\n",
       "      <th>3</th>\n",
       "      <td>4</td>\n",
       "      <td>NaN</td>\n",
       "      <td>9</td>\n",
       "    </tr>\n",
       "  </tbody>\n",
       "</table>\n",
       "</div>"
      ],
      "text/plain": [
       "   ID successor ID  Duration actual in days\n",
       "0   1            2                        5\n",
       "0   1            3                        5\n",
       "1   2            4                       13\n",
       "2   3          NaN                        6\n",
       "3   4          NaN                        9"
      ]
     },
     "execution_count": 15,
     "metadata": {},
     "output_type": "execute_result"
    }
   ],
   "source": [
    "df"
   ]
  },
  {
   "cell_type": "markdown",
   "id": "d8807c10-01fe-49a7-920b-bc00872840d3",
   "metadata": {},
   "source": [
    "## pick start from within the range"
   ]
  },
  {
   "cell_type": "markdown",
   "id": "f7ba0dd9-f623-46c8-bd37-189a7e0dada7",
   "metadata": {},
   "source": [
    "to make a bar chart we need (\"ID\", \"Duration in Days\", \"start date\")"
   ]
  },
  {
   "cell_type": "code",
   "execution_count": 16,
   "id": "c6227cc9-1992-4fee-a905-0de15ea3e9ce",
   "metadata": {},
   "outputs": [
    {
     "data": {
      "text/html": [
       "<div>\n",
       "<style scoped>\n",
       "    .dataframe tbody tr th:only-of-type {\n",
       "        vertical-align: middle;\n",
       "    }\n",
       "\n",
       "    .dataframe tbody tr th {\n",
       "        vertical-align: top;\n",
       "    }\n",
       "\n",
       "    .dataframe thead th {\n",
       "        text-align: right;\n",
       "    }\n",
       "</style>\n",
       "<table border=\"1\" class=\"dataframe\">\n",
       "  <thead>\n",
       "    <tr style=\"text-align: right;\">\n",
       "      <th></th>\n",
       "      <th>ID</th>\n",
       "      <th>Duration actual in days</th>\n",
       "    </tr>\n",
       "  </thead>\n",
       "  <tbody>\n",
       "    <tr>\n",
       "      <th>0</th>\n",
       "      <td>1</td>\n",
       "      <td>5</td>\n",
       "    </tr>\n",
       "    <tr>\n",
       "      <th>1</th>\n",
       "      <td>2</td>\n",
       "      <td>13</td>\n",
       "    </tr>\n",
       "    <tr>\n",
       "      <th>2</th>\n",
       "      <td>3</td>\n",
       "      <td>6</td>\n",
       "    </tr>\n",
       "    <tr>\n",
       "      <th>3</th>\n",
       "      <td>4</td>\n",
       "      <td>9</td>\n",
       "    </tr>\n",
       "  </tbody>\n",
       "</table>\n",
       "</div>"
      ],
      "text/plain": [
       "   ID  Duration actual in days\n",
       "0   1                        5\n",
       "1   2                       13\n",
       "2   3                        6\n",
       "3   4                        9"
      ]
     },
     "execution_count": 16,
     "metadata": {},
     "output_type": "execute_result"
    }
   ],
   "source": [
    "# we are almost there -- we just need to determine the start date for each task\n",
    "\n",
    "df_to_plot = df[[\"ID\", \"Duration actual in days\"]].drop_duplicates()\n",
    "df_to_plot"
   ]
  },
  {
   "cell_type": "code",
   "execution_count": 17,
   "id": "0df27b46-56c3-4a09-ab27-564cc35d9e46",
   "metadata": {},
   "outputs": [],
   "source": [
    "# need a \"first task\" from which everything else off-sets\n",
    "initial_task_ID = 1 \n",
    "\n",
    "# this could be determined by date if those were present"
   ]
  },
  {
   "cell_type": "code",
   "execution_count": 18,
   "id": "1fe4eed1-8e96-4dfd-93de-3630deffe663",
   "metadata": {},
   "outputs": [],
   "source": [
    "initial_task_start_day_index = 0"
   ]
  },
  {
   "cell_type": "code",
   "execution_count": 19,
   "id": "0998a674-1ef0-45a6-ac13-9e1a8d3ab4de",
   "metadata": {},
   "outputs": [
    {
     "data": {
      "text/plain": [
       "5"
      ]
     },
     "execution_count": 19,
     "metadata": {},
     "output_type": "execute_result"
    }
   ],
   "source": [
    "# duration of task 1 in days is\n",
    "df[df['ID']==initial_task_ID]['Duration actual in days'].values[0]"
   ]
  },
  {
   "cell_type": "code",
   "execution_count": 20,
   "id": "1aa860a5-d913-456b-82a3-5da293e86487",
   "metadata": {},
   "outputs": [],
   "source": [
    "# create new column to track actual start day\n",
    "# initialize to invalid value\n",
    "\n",
    "df['actual start day index'] = -1"
   ]
  },
  {
   "cell_type": "code",
   "execution_count": 21,
   "id": "c2938550-8f58-4ce7-9ae8-75427ff43d2e",
   "metadata": {},
   "outputs": [],
   "source": [
    "# https://stackoverflow.com/a/19226617/1164295\n",
    "\n",
    "df.loc[df['ID'] == initial_task_ID, 'actual start day index'] = initial_task_start_day_index"
   ]
  },
  {
   "cell_type": "code",
   "execution_count": 22,
   "id": "1a1c15e1-05fd-4e4b-b1e8-2f8c5dd2d3d0",
   "metadata": {},
   "outputs": [
    {
     "data": {
      "text/html": [
       "<div>\n",
       "<style scoped>\n",
       "    .dataframe tbody tr th:only-of-type {\n",
       "        vertical-align: middle;\n",
       "    }\n",
       "\n",
       "    .dataframe tbody tr th {\n",
       "        vertical-align: top;\n",
       "    }\n",
       "\n",
       "    .dataframe thead th {\n",
       "        text-align: right;\n",
       "    }\n",
       "</style>\n",
       "<table border=\"1\" class=\"dataframe\">\n",
       "  <thead>\n",
       "    <tr style=\"text-align: right;\">\n",
       "      <th></th>\n",
       "      <th>ID</th>\n",
       "      <th>successor ID</th>\n",
       "      <th>Duration actual in days</th>\n",
       "      <th>actual start day index</th>\n",
       "    </tr>\n",
       "  </thead>\n",
       "  <tbody>\n",
       "    <tr>\n",
       "      <th>0</th>\n",
       "      <td>1</td>\n",
       "      <td>2</td>\n",
       "      <td>5</td>\n",
       "      <td>0</td>\n",
       "    </tr>\n",
       "    <tr>\n",
       "      <th>0</th>\n",
       "      <td>1</td>\n",
       "      <td>3</td>\n",
       "      <td>5</td>\n",
       "      <td>0</td>\n",
       "    </tr>\n",
       "    <tr>\n",
       "      <th>1</th>\n",
       "      <td>2</td>\n",
       "      <td>4</td>\n",
       "      <td>13</td>\n",
       "      <td>-1</td>\n",
       "    </tr>\n",
       "    <tr>\n",
       "      <th>2</th>\n",
       "      <td>3</td>\n",
       "      <td>NaN</td>\n",
       "      <td>6</td>\n",
       "      <td>-1</td>\n",
       "    </tr>\n",
       "    <tr>\n",
       "      <th>3</th>\n",
       "      <td>4</td>\n",
       "      <td>NaN</td>\n",
       "      <td>9</td>\n",
       "      <td>-1</td>\n",
       "    </tr>\n",
       "  </tbody>\n",
       "</table>\n",
       "</div>"
      ],
      "text/plain": [
       "   ID successor ID  Duration actual in days  actual start day index\n",
       "0   1            2                        5                       0\n",
       "0   1            3                        5                       0\n",
       "1   2            4                       13                      -1\n",
       "2   3          NaN                        6                      -1\n",
       "3   4          NaN                        9                      -1"
      ]
     },
     "execution_count": 22,
     "metadata": {},
     "output_type": "execute_result"
    }
   ],
   "source": [
    "df"
   ]
  },
  {
   "cell_type": "code",
   "execution_count": null,
   "id": "9816b645-f3c5-4e17-8dd8-986122e0c896",
   "metadata": {},
   "outputs": [],
   "source": []
  },
  {
   "cell_type": "code",
   "execution_count": 23,
   "id": "578132d8-70d1-4aef-b1dc-42ae5488d18f",
   "metadata": {},
   "outputs": [
    {
     "name": "stdout",
     "output_type": "stream",
     "text": [
      "successor ID =  2\n",
      "  which starts on day  5\n",
      "successor ID =  3\n",
      "  which starts on day  5\n"
     ]
    }
   ],
   "source": [
    "task_ID = initial_task_ID\n",
    "\n",
    "for successor_id in df[df['ID']==task_ID]['successor ID'].values:\n",
    "    print(\"successor ID = \", successor_id)\n",
    "    \n",
    "    # https://stackoverflow.com/a/29219086/1164295\n",
    "    day_that_successor_starts = df[(df['ID']==1) & (df['successor ID']=='2')]['Duration actual in days'].values[0]\n",
    "    print(\"  which starts on day \", day_that_successor_starts)\n",
    "    \n",
    "    df.loc[df['ID'] == int(successor_id), 'actual start day index'] = day_that_successor_starts"
   ]
  },
  {
   "cell_type": "code",
   "execution_count": 24,
   "id": "fbdc2477-431a-4556-8ccf-bf85c0e58090",
   "metadata": {},
   "outputs": [
    {
     "data": {
      "text/html": [
       "<div>\n",
       "<style scoped>\n",
       "    .dataframe tbody tr th:only-of-type {\n",
       "        vertical-align: middle;\n",
       "    }\n",
       "\n",
       "    .dataframe tbody tr th {\n",
       "        vertical-align: top;\n",
       "    }\n",
       "\n",
       "    .dataframe thead th {\n",
       "        text-align: right;\n",
       "    }\n",
       "</style>\n",
       "<table border=\"1\" class=\"dataframe\">\n",
       "  <thead>\n",
       "    <tr style=\"text-align: right;\">\n",
       "      <th></th>\n",
       "      <th>ID</th>\n",
       "      <th>successor ID</th>\n",
       "      <th>Duration actual in days</th>\n",
       "      <th>actual start day index</th>\n",
       "    </tr>\n",
       "  </thead>\n",
       "  <tbody>\n",
       "    <tr>\n",
       "      <th>0</th>\n",
       "      <td>1</td>\n",
       "      <td>2</td>\n",
       "      <td>5</td>\n",
       "      <td>0</td>\n",
       "    </tr>\n",
       "    <tr>\n",
       "      <th>0</th>\n",
       "      <td>1</td>\n",
       "      <td>3</td>\n",
       "      <td>5</td>\n",
       "      <td>0</td>\n",
       "    </tr>\n",
       "    <tr>\n",
       "      <th>1</th>\n",
       "      <td>2</td>\n",
       "      <td>4</td>\n",
       "      <td>13</td>\n",
       "      <td>5</td>\n",
       "    </tr>\n",
       "    <tr>\n",
       "      <th>2</th>\n",
       "      <td>3</td>\n",
       "      <td>NaN</td>\n",
       "      <td>6</td>\n",
       "      <td>5</td>\n",
       "    </tr>\n",
       "    <tr>\n",
       "      <th>3</th>\n",
       "      <td>4</td>\n",
       "      <td>NaN</td>\n",
       "      <td>9</td>\n",
       "      <td>-1</td>\n",
       "    </tr>\n",
       "  </tbody>\n",
       "</table>\n",
       "</div>"
      ],
      "text/plain": [
       "   ID successor ID  Duration actual in days  actual start day index\n",
       "0   1            2                        5                       0\n",
       "0   1            3                        5                       0\n",
       "1   2            4                       13                       5\n",
       "2   3          NaN                        6                       5\n",
       "3   4          NaN                        9                      -1"
      ]
     },
     "execution_count": 24,
     "metadata": {},
     "output_type": "execute_result"
    }
   ],
   "source": [
    "df"
   ]
  },
  {
   "cell_type": "code",
   "execution_count": 25,
   "id": "5df260a2-f85b-455e-a863-edbcdd638430",
   "metadata": {},
   "outputs": [
    {
     "name": "stdout",
     "output_type": "stream",
     "text": [
      "task ID = 1\n",
      "  successor ID =  2\n",
      "    which starts on day  5 \n",
      "\n",
      "  successor ID =  3\n",
      "    which starts on day  5 \n",
      "\n",
      "task ID = 2\n",
      "  successor ID =  4\n",
      "    which starts on day  18 \n",
      "\n",
      "task ID = 3\n",
      "  successor ID =  nan\n",
      "task ID = 4\n",
      "  successor ID =  nan\n"
     ]
    }
   ],
   "source": [
    "for task_ID in df['ID'].unique():\n",
    "\n",
    "    print(\"task ID =\",task_ID)\n",
    "    for successor_id in df[df['ID']==task_ID]['successor ID'].values:\n",
    "        print(\"  successor ID = \", successor_id)\n",
    "        \n",
    "        # https://pandas.pydata.org/pandas-docs/version/0.23/generated/pandas.notnull.html\n",
    "        if pandas.notna(successor_id): # has successor\n",
    "            relative_day_that_successor_starts = df[(df['ID']==task_ID) & (df['successor ID']==successor_id)]['Duration actual in days'].values[0]\n",
    "            day_that_successor_starts = relative_day_that_successor_starts+df[(df['ID']==task_ID) & (df['successor ID']==successor_id)]['actual start day index'].values[0]\n",
    "            print(\"    which starts on day \", \n",
    "                  day_that_successor_starts,\n",
    "                  \"\\n\")\n",
    "\n",
    "            df.loc[df['ID'] == int(successor_id), 'actual start day index'] = day_that_successor_starts"
   ]
  },
  {
   "cell_type": "code",
   "execution_count": 26,
   "id": "ed00de73-c6f2-4506-b88c-217722ccca36",
   "metadata": {},
   "outputs": [
    {
     "data": {
      "text/html": [
       "<div>\n",
       "<style scoped>\n",
       "    .dataframe tbody tr th:only-of-type {\n",
       "        vertical-align: middle;\n",
       "    }\n",
       "\n",
       "    .dataframe tbody tr th {\n",
       "        vertical-align: top;\n",
       "    }\n",
       "\n",
       "    .dataframe thead th {\n",
       "        text-align: right;\n",
       "    }\n",
       "</style>\n",
       "<table border=\"1\" class=\"dataframe\">\n",
       "  <thead>\n",
       "    <tr style=\"text-align: right;\">\n",
       "      <th></th>\n",
       "      <th>ID</th>\n",
       "      <th>successor ID</th>\n",
       "      <th>Duration actual in days</th>\n",
       "      <th>actual start day index</th>\n",
       "    </tr>\n",
       "  </thead>\n",
       "  <tbody>\n",
       "    <tr>\n",
       "      <th>0</th>\n",
       "      <td>1</td>\n",
       "      <td>2</td>\n",
       "      <td>5</td>\n",
       "      <td>0</td>\n",
       "    </tr>\n",
       "    <tr>\n",
       "      <th>0</th>\n",
       "      <td>1</td>\n",
       "      <td>3</td>\n",
       "      <td>5</td>\n",
       "      <td>0</td>\n",
       "    </tr>\n",
       "    <tr>\n",
       "      <th>1</th>\n",
       "      <td>2</td>\n",
       "      <td>4</td>\n",
       "      <td>13</td>\n",
       "      <td>5</td>\n",
       "    </tr>\n",
       "    <tr>\n",
       "      <th>2</th>\n",
       "      <td>3</td>\n",
       "      <td>NaN</td>\n",
       "      <td>6</td>\n",
       "      <td>5</td>\n",
       "    </tr>\n",
       "    <tr>\n",
       "      <th>3</th>\n",
       "      <td>4</td>\n",
       "      <td>NaN</td>\n",
       "      <td>9</td>\n",
       "      <td>18</td>\n",
       "    </tr>\n",
       "  </tbody>\n",
       "</table>\n",
       "</div>"
      ],
      "text/plain": [
       "   ID successor ID  Duration actual in days  actual start day index\n",
       "0   1            2                        5                       0\n",
       "0   1            3                        5                       0\n",
       "1   2            4                       13                       5\n",
       "2   3          NaN                        6                       5\n",
       "3   4          NaN                        9                      18"
      ]
     },
     "execution_count": 26,
     "metadata": {},
     "output_type": "execute_result"
    }
   ],
   "source": [
    "df"
   ]
  },
  {
   "cell_type": "code",
   "execution_count": 27,
   "id": "7a3b123d-a56e-4ac1-adf2-4b85527752f1",
   "metadata": {},
   "outputs": [
    {
     "data": {
      "image/png": "[encoded data removed]",
      "text/plain": [
       "<Figure size 432x288 with 1 Axes>"
      ]
     },
     "metadata": {
      "needs_background": "light"
     },
     "output_type": "display_data"
    }
   ],
   "source": [
    "plt.barh(df['ID'], df['Duration actual in days'], left=df['actual start day index'])\n",
    "plt.ylabel('task ID')\n",
    "plt.xlabel('day index')\n",
    "plt.title(\"Gantt chart\");"
   ]
  },
  {
   "cell_type": "code",
   "execution_count": 28,
   "id": "c0da7fb5-15a5-4b23-95b9-3043e05b52ae",
   "metadata": {},
   "outputs": [],
   "source": [
    "def calculate_end_date(row):\n",
    "    return row['Duration actual in days']+row['actual start day index']"
   ]
  },
  {
   "cell_type": "code",
   "execution_count": 29,
   "id": "b3d060e1-0347-4e89-8b1a-0c75d5a09549",
   "metadata": {},
   "outputs": [],
   "source": [
    "df['actual end day index'] = df.apply(lambda row: calculate_end_date(row), axis=1)"
   ]
  },
  {
   "cell_type": "code",
   "execution_count": 30,
   "id": "89616b01-2d0f-4786-8767-73a256ca9a93",
   "metadata": {},
   "outputs": [
    {
     "data": {
      "text/html": [
       "<div>\n",
       "<style scoped>\n",
       "    .dataframe tbody tr th:only-of-type {\n",
       "        vertical-align: middle;\n",
       "    }\n",
       "\n",
       "    .dataframe tbody tr th {\n",
       "        vertical-align: top;\n",
       "    }\n",
       "\n",
       "    .dataframe thead th {\n",
       "        text-align: right;\n",
       "    }\n",
       "</style>\n",
       "<table border=\"1\" class=\"dataframe\">\n",
       "  <thead>\n",
       "    <tr style=\"text-align: right;\">\n",
       "      <th></th>\n",
       "      <th>ID</th>\n",
       "      <th>successor ID</th>\n",
       "      <th>Duration actual in days</th>\n",
       "      <th>actual start day index</th>\n",
       "      <th>actual end day index</th>\n",
       "    </tr>\n",
       "  </thead>\n",
       "  <tbody>\n",
       "    <tr>\n",
       "      <th>0</th>\n",
       "      <td>1</td>\n",
       "      <td>2</td>\n",
       "      <td>5</td>\n",
       "      <td>0</td>\n",
       "      <td>5</td>\n",
       "    </tr>\n",
       "    <tr>\n",
       "      <th>0</th>\n",
       "      <td>1</td>\n",
       "      <td>3</td>\n",
       "      <td>5</td>\n",
       "      <td>0</td>\n",
       "      <td>5</td>\n",
       "    </tr>\n",
       "    <tr>\n",
       "      <th>1</th>\n",
       "      <td>2</td>\n",
       "      <td>4</td>\n",
       "      <td>13</td>\n",
       "      <td>5</td>\n",
       "      <td>18</td>\n",
       "    </tr>\n",
       "    <tr>\n",
       "      <th>2</th>\n",
       "      <td>3</td>\n",
       "      <td>NaN</td>\n",
       "      <td>6</td>\n",
       "      <td>5</td>\n",
       "      <td>11</td>\n",
       "    </tr>\n",
       "    <tr>\n",
       "      <th>3</th>\n",
       "      <td>4</td>\n",
       "      <td>NaN</td>\n",
       "      <td>9</td>\n",
       "      <td>18</td>\n",
       "      <td>27</td>\n",
       "    </tr>\n",
       "  </tbody>\n",
       "</table>\n",
       "</div>"
      ],
      "text/plain": [
       "   ID successor ID  Duration actual in days  actual start day index  \\\n",
       "0   1            2                        5                       0   \n",
       "0   1            3                        5                       0   \n",
       "1   2            4                       13                       5   \n",
       "2   3          NaN                        6                       5   \n",
       "3   4          NaN                        9                      18   \n",
       "\n",
       "   actual end day index  \n",
       "0                     5  \n",
       "0                     5  \n",
       "1                    18  \n",
       "2                    11  \n",
       "3                    27  "
      ]
     },
     "execution_count": 30,
     "metadata": {},
     "output_type": "execute_result"
    }
   ],
   "source": [
    "df"
   ]
  },
  {
   "cell_type": "code",
   "execution_count": 35,
   "id": "a3814586-5e42-4894-800b-a2b248baba7b",
   "metadata": {},
   "outputs": [
    {
     "data": {
      "text/plain": [
       "27"
      ]
     },
     "execution_count": 35,
     "metadata": {},
     "output_type": "execute_result"
    }
   ],
   "source": [
    "duration_of_effort_in_days = df['actual end day index'].max()\n",
    "\n",
    "duration_of_effort_in_days"
   ]
  },
  {
   "cell_type": "code",
   "execution_count": 32,
   "id": "26923842-bc6a-4778-82b7-b1a53aed61cd",
   "metadata": {},
   "outputs": [
    {
     "data": {
      "image/png": "[encoded data removed]",
      "text/plain": [
       "<Figure size 432x288 with 1 Axes>"
      ]
     },
     "metadata": {
      "needs_background": "light"
     },
     "output_type": "display_data"
    }
   ],
   "source": [
    "plt.barh(df['ID'], df['Duration actual in days'], left=df['actual start day index'])\n",
    "\n",
    "# add dependency lines to the Gantt chart\n",
    "\n",
    "# https://stackoverflow.com/a/61159270/1164295\n",
    "for row_dict in df.to_dict(orient=\"records\"):\n",
    "    if pandas.notna(row_dict['successor ID']):\n",
    "        \n",
    "        # https://stackoverflow.com/a/35363739/1164295\n",
    "        plt.plot([row_dict['actual end day index'], row_dict['actual end day index']], \n",
    "                 [row_dict['ID'], int(row_dict['successor ID'])], 'ro-')\n",
    "        \n",
    "plt.ylabel('task ID')\n",
    "plt.xlabel('day index')\n",
    "plt.title(\"Gantt chart\");"
   ]
  },
  {
   "cell_type": "code",
   "execution_count": null,
   "id": "3df8963f-f6d4-4246-b692-a39bb029f212",
   "metadata": {},
   "outputs": [],
   "source": []
  }
 ],
 "metadata": {
  "kernelspec": {
   "display_name": "Python 3 (ipykernel)",
   "language": "python",
   "name": "python3"
  },
  "language_info": {
   "codemirror_mode": {
    "name": "ipython",
    "version": 3
   },
   "file_extension": ".py",
   "mimetype": "text/x-python",
   "name": "python",
   "nbconvert_exporter": "python",
   "pygments_lexer": "ipython3",
   "version": "3.9.6"
  }
 },
 "nbformat": 4,
 "nbformat_minor": 5
}
