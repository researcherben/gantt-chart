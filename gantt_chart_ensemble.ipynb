{
 "cells": [
  {
   "cell_type": "markdown",
   "id": "e2157a29-4314-4ed3-914b-3f51870617c8",
   "metadata": {},
   "source": [
    "# ensemble of Gantt charts"
   ]
  },
  {
   "cell_type": "code",
   "execution_count": 1,
   "id": "f15e69b8-ad54-4fc4-a10b-6bf1e9d3a47b",
   "metadata": {},
   "outputs": [
    {
     "name": "stdout",
     "output_type": "stream",
     "text": [
      "1.3.3\n",
      "3.4.3\n",
      "3.9.6 | packaged by conda-forge | (default, Jul 11 2021, 03:39:48) \n",
      "[GCC 9.3.0]\n"
     ]
    }
   ],
   "source": [
    "import pandas\n",
    "print(pandas.__version__)\n",
    "import matplotlib.pyplot as plt\n",
    "import matplotlib\n",
    "print(matplotlib. __version__)\n",
    "import datetime\n",
    "import random\n",
    "import time\n",
    "import pickle\n",
    "import sys\n",
    "print(sys.version)"
   ]
  },
  {
   "cell_type": "code",
   "execution_count": 2,
   "id": "b166654b-6bcd-40db-8b14-771db8053d03",
   "metadata": {},
   "outputs": [],
   "source": [
    "# https://wiki.python.org/moin/UsingPickle\n",
    "\n",
    "with open(\"project.pkl\", \"rb\") as file_handle:\n",
    "    df = pickle.load( file_handle )"
   ]
  },
  {
   "cell_type": "code",
   "execution_count": 3,
   "id": "238cc951-fa7d-4348-b0ae-e55c941f27bb",
   "metadata": {},
   "outputs": [
    {
     "data": {
      "text/html": [
       "<div>\n",
       "<style scoped>\n",
       "    .dataframe tbody tr th:only-of-type {\n",
       "        vertical-align: middle;\n",
       "    }\n",
       "\n",
       "    .dataframe tbody tr th {\n",
       "        vertical-align: top;\n",
       "    }\n",
       "\n",
       "    .dataframe thead th {\n",
       "        text-align: right;\n",
       "    }\n",
       "</style>\n",
       "<table border=\"1\" class=\"dataframe\">\n",
       "  <thead>\n",
       "    <tr style=\"text-align: right;\">\n",
       "      <th></th>\n",
       "      <th>ID</th>\n",
       "      <th>Duration in days</th>\n",
       "      <th>predecessor ID</th>\n",
       "      <th>successor ID</th>\n",
       "      <th>predecessor category</th>\n",
       "      <th>successor category</th>\n",
       "      <th>predecessor change in days</th>\n",
       "      <th>successor change in days</th>\n",
       "    </tr>\n",
       "  </thead>\n",
       "  <tbody>\n",
       "    <tr>\n",
       "      <th>0</th>\n",
       "      <td>1</td>\n",
       "      <td>5</td>\n",
       "      <td>NaN</td>\n",
       "      <td>2</td>\n",
       "      <td>NaN</td>\n",
       "      <td>NaN</td>\n",
       "      <td>NaN</td>\n",
       "      <td>23.0</td>\n",
       "    </tr>\n",
       "    <tr>\n",
       "      <th>0</th>\n",
       "      <td>1</td>\n",
       "      <td>5</td>\n",
       "      <td>NaN</td>\n",
       "      <td>3</td>\n",
       "      <td>NaN</td>\n",
       "      <td>start-to-finish</td>\n",
       "      <td>NaN</td>\n",
       "      <td>8.0</td>\n",
       "    </tr>\n",
       "    <tr>\n",
       "      <th>1</th>\n",
       "      <td>2</td>\n",
       "      <td>12</td>\n",
       "      <td>5</td>\n",
       "      <td>4</td>\n",
       "      <td>NaN</td>\n",
       "      <td>NaN</td>\n",
       "      <td>NaN</td>\n",
       "      <td>NaN</td>\n",
       "    </tr>\n",
       "    <tr>\n",
       "      <th>2</th>\n",
       "      <td>3</td>\n",
       "      <td>6</td>\n",
       "      <td>4</td>\n",
       "      <td>NaN</td>\n",
       "      <td>finish-to-start</td>\n",
       "      <td>NaN</td>\n",
       "      <td>20.0</td>\n",
       "      <td>NaN</td>\n",
       "    </tr>\n",
       "    <tr>\n",
       "      <th>3</th>\n",
       "      <td>4</td>\n",
       "      <td>10</td>\n",
       "      <td>NaN</td>\n",
       "      <td>NaN</td>\n",
       "      <td>NaN</td>\n",
       "      <td>NaN</td>\n",
       "      <td>NaN</td>\n",
       "      <td>NaN</td>\n",
       "    </tr>\n",
       "  </tbody>\n",
       "</table>\n",
       "</div>"
      ],
      "text/plain": [
       "   ID  Duration in days predecessor ID successor ID predecessor category  \\\n",
       "0   1                 5            NaN            2                  NaN   \n",
       "0   1                 5            NaN            3                  NaN   \n",
       "1   2                12              5            4                  NaN   \n",
       "2   3                 6              4          NaN      finish-to-start   \n",
       "3   4                10            NaN          NaN                  NaN   \n",
       "\n",
       "  successor category  predecessor change in days  successor change in days  \n",
       "0                NaN                         NaN                      23.0  \n",
       "0    start-to-finish                         NaN                       8.0  \n",
       "1                NaN                         NaN                       NaN  \n",
       "2                NaN                        20.0                       NaN  \n",
       "3                NaN                         NaN                       NaN  "
      ]
     },
     "execution_count": 3,
     "metadata": {},
     "output_type": "execute_result"
    }
   ],
   "source": [
    "df"
   ]
  },
  {
   "cell_type": "code",
   "execution_count": 4,
   "id": "47e98a7e-e418-486f-a088-50c6df0498a1",
   "metadata": {},
   "outputs": [],
   "source": [
    "# https://towardsdatascience.com/create-new-column-based-on-other-columns-pandas-5586d87de73d\n",
    "\n",
    "def set_max(row, max_min_task_dict):\n",
    "    return int(row['Duration in days'])+max_min_task_dict[row['ID']][1]\n",
    "    \n",
    "def set_min(row, max_min_task_dict):\n",
    "    \"\"\"\n",
    "    if initial value is zero we don't want to decrease that\n",
    "    \"\"\"\n",
    "    return max(int(row['Duration in days'])-max_min_task_dict[row['ID']][0], 0)"
   ]
  },
  {
   "cell_type": "code",
   "execution_count": 5,
   "id": "fb71c116-74af-49a2-9768-1ae1e4387b33",
   "metadata": {},
   "outputs": [],
   "source": [
    "# the error is per task, not per row\n",
    "# create a lookup table of per-task errors\n",
    "\n",
    "max_min_task_dict = {}\n",
    "for task_id in df['ID'].unique():\n",
    "                                    # subtract by          # add to\n",
    "    max_min_task_dict[task_id] = (random.randrange(1,3), random.randrange(1,3))"
   ]
  },
  {
   "cell_type": "code",
   "execution_count": 6,
   "id": "2757f7a8-aa3d-490e-b8e1-bbd1a9e296f5",
   "metadata": {},
   "outputs": [],
   "source": [
    "# use the lookup table to add two columns\n",
    "\n",
    "df['Duration min'] = df.apply(lambda row: set_min(row, max_min_task_dict), axis=1)\n",
    "df['Duration max'] = df.apply(lambda row: set_max(row, max_min_task_dict), axis=1)"
   ]
  },
  {
   "cell_type": "code",
   "execution_count": 7,
   "id": "8bac2e92-a75d-446c-afe8-c0111ef2f59f",
   "metadata": {},
   "outputs": [
    {
     "data": {
      "text/html": [
       "<div>\n",
       "<style scoped>\n",
       "    .dataframe tbody tr th:only-of-type {\n",
       "        vertical-align: middle;\n",
       "    }\n",
       "\n",
       "    .dataframe tbody tr th {\n",
       "        vertical-align: top;\n",
       "    }\n",
       "\n",
       "    .dataframe thead th {\n",
       "        text-align: right;\n",
       "    }\n",
       "</style>\n",
       "<table border=\"1\" class=\"dataframe\">\n",
       "  <thead>\n",
       "    <tr style=\"text-align: right;\">\n",
       "      <th></th>\n",
       "      <th>ID</th>\n",
       "      <th>Duration in days</th>\n",
       "      <th>predecessor ID</th>\n",
       "      <th>successor ID</th>\n",
       "      <th>predecessor category</th>\n",
       "      <th>successor category</th>\n",
       "      <th>predecessor change in days</th>\n",
       "      <th>successor change in days</th>\n",
       "      <th>Duration min</th>\n",
       "      <th>Duration max</th>\n",
       "    </tr>\n",
       "  </thead>\n",
       "  <tbody>\n",
       "    <tr>\n",
       "      <th>0</th>\n",
       "      <td>1</td>\n",
       "      <td>5</td>\n",
       "      <td>NaN</td>\n",
       "      <td>2</td>\n",
       "      <td>NaN</td>\n",
       "      <td>NaN</td>\n",
       "      <td>NaN</td>\n",
       "      <td>23.0</td>\n",
       "      <td>3</td>\n",
       "      <td>7</td>\n",
       "    </tr>\n",
       "    <tr>\n",
       "      <th>0</th>\n",
       "      <td>1</td>\n",
       "      <td>5</td>\n",
       "      <td>NaN</td>\n",
       "      <td>3</td>\n",
       "      <td>NaN</td>\n",
       "      <td>start-to-finish</td>\n",
       "      <td>NaN</td>\n",
       "      <td>8.0</td>\n",
       "      <td>3</td>\n",
       "      <td>7</td>\n",
       "    </tr>\n",
       "    <tr>\n",
       "      <th>1</th>\n",
       "      <td>2</td>\n",
       "      <td>12</td>\n",
       "      <td>5</td>\n",
       "      <td>4</td>\n",
       "      <td>NaN</td>\n",
       "      <td>NaN</td>\n",
       "      <td>NaN</td>\n",
       "      <td>NaN</td>\n",
       "      <td>10</td>\n",
       "      <td>13</td>\n",
       "    </tr>\n",
       "    <tr>\n",
       "      <th>2</th>\n",
       "      <td>3</td>\n",
       "      <td>6</td>\n",
       "      <td>4</td>\n",
       "      <td>NaN</td>\n",
       "      <td>finish-to-start</td>\n",
       "      <td>NaN</td>\n",
       "      <td>20.0</td>\n",
       "      <td>NaN</td>\n",
       "      <td>4</td>\n",
       "      <td>7</td>\n",
       "    </tr>\n",
       "    <tr>\n",
       "      <th>3</th>\n",
       "      <td>4</td>\n",
       "      <td>10</td>\n",
       "      <td>NaN</td>\n",
       "      <td>NaN</td>\n",
       "      <td>NaN</td>\n",
       "      <td>NaN</td>\n",
       "      <td>NaN</td>\n",
       "      <td>NaN</td>\n",
       "      <td>8</td>\n",
       "      <td>11</td>\n",
       "    </tr>\n",
       "  </tbody>\n",
       "</table>\n",
       "</div>"
      ],
      "text/plain": [
       "   ID  Duration in days predecessor ID successor ID predecessor category  \\\n",
       "0   1                 5            NaN            2                  NaN   \n",
       "0   1                 5            NaN            3                  NaN   \n",
       "1   2                12              5            4                  NaN   \n",
       "2   3                 6              4          NaN      finish-to-start   \n",
       "3   4                10            NaN          NaN                  NaN   \n",
       "\n",
       "  successor category  predecessor change in days  successor change in days  \\\n",
       "0                NaN                         NaN                      23.0   \n",
       "0    start-to-finish                         NaN                       8.0   \n",
       "1                NaN                         NaN                       NaN   \n",
       "2                NaN                        20.0                       NaN   \n",
       "3                NaN                         NaN                       NaN   \n",
       "\n",
       "   Duration min  Duration max  \n",
       "0             3             7  \n",
       "0             3             7  \n",
       "1            10            13  \n",
       "2             4             7  \n",
       "3             8            11  "
      ]
     },
     "execution_count": 7,
     "metadata": {},
     "output_type": "execute_result"
    }
   ],
   "source": [
    "df"
   ]
  },
  {
   "cell_type": "markdown",
   "id": "cbc8c205-7f29-466e-b70c-5889b9e4d35c",
   "metadata": {},
   "source": [
    "## loop over instances of schedule"
   ]
  },
  {
   "cell_type": "code",
   "execution_count": 8,
   "id": "164b7e33-79b9-4e04-aefc-3512c9f5c1e6",
   "metadata": {},
   "outputs": [],
   "source": [
    "def pick_actual_duration(row, actual_task_duration_dict):\n",
    "    return actual_task_duration_dict[row['ID']]\n",
    "\n",
    "def calculate_end_date(row):\n",
    "    return row['Duration actual in days']+row['actual start day index']"
   ]
  },
  {
   "cell_type": "code",
   "execution_count": 9,
   "id": "0ba4012c-3d8f-45bb-a06a-7afa6903c678",
   "metadata": {},
   "outputs": [],
   "source": [
    "# need a \"first task\" from which everything else off-sets\n",
    "initial_task_ID = 1 \n",
    "\n",
    "# this could be determined by date if those were present\n",
    "\n",
    "initial_task_start_day_index = 0"
   ]
  },
  {
   "cell_type": "code",
   "execution_count": 10,
   "id": "9561035b-1c6c-42db-a50c-5fcf9f994680",
   "metadata": {},
   "outputs": [
    {
     "name": "stdout",
     "output_type": "stream",
     "text": [
      "loop 0 elapsed 0.1 seconds\n",
      "loop 5 elapsed 0.2 seconds\n",
      "loop 10 elapsed 0.4 seconds\n",
      "loop 15 elapsed 0.5 seconds\n",
      "loop 20 elapsed 0.7 seconds\n",
      "loop 25 elapsed 0.9 seconds\n",
      "loop 30 elapsed 1.0 seconds\n",
      "loop 35 elapsed 1.2 seconds\n",
      "loop 40 elapsed 1.3 seconds\n",
      "loop 45 elapsed 1.4 seconds\n",
      "loop 50 elapsed 1.6 seconds\n",
      "loop 55 elapsed 1.8 seconds\n",
      "loop 60 elapsed 1.9 seconds\n",
      "loop 65 elapsed 2.0 seconds\n",
      "loop 70 elapsed 2.2 seconds\n",
      "loop 75 elapsed 2.4 seconds\n",
      "loop 80 elapsed 2.5 seconds\n",
      "loop 85 elapsed 2.7 seconds\n",
      "loop 90 elapsed 2.8 seconds\n",
      "loop 95 elapsed 2.9 seconds\n"
     ]
    }
   ],
   "source": [
    "durations_list = []\n",
    "\n",
    "start_time = time.time()\n",
    "\n",
    "for instance_index in range(100):\n",
    "    actual_task_duration_dict = {}\n",
    "    for task_id in df['ID'].unique():\n",
    "        max_duration_this_task = df[df['ID']==task_id]['Duration max'].values[0]\n",
    "        min_duration_this_task = df[df['ID']==task_id]['Duration min'].values[0]\n",
    "\n",
    "        actual_task_duration_dict[task_id] = random.randrange(min_duration_this_task,max_duration_this_task)\n",
    "\n",
    "    df['Duration actual in days'] = df.apply(lambda row: pick_actual_duration(row, actual_task_duration_dict), axis=1)\n",
    "\n",
    "    #**************\n",
    "\n",
    "    # create new column to track actual start day\n",
    "    # initialize to invalid value\n",
    "\n",
    "    df['actual start day index'] = -1\n",
    "\n",
    "    # https://stackoverflow.com/a/19226617/1164295\n",
    "    df.loc[df['ID'] == initial_task_ID, 'actual start day index'] = initial_task_start_day_index\n",
    "\n",
    "    #****************\n",
    "\n",
    "    for task_ID in df['ID'].unique():\n",
    "\n",
    "        #print(\"task ID =\",task_ID)\n",
    "        for successor_id in df[df['ID']==task_ID]['successor ID'].values:\n",
    "            #print(\"  successor ID = \", successor_id)\n",
    "\n",
    "            # https://pandas.pydata.org/pandas-docs/version/0.23/generated/pandas.notnull.html\n",
    "            if pandas.notna(successor_id): # has successor\n",
    "                relative_day_that_successor_starts = df[(df['ID']==task_ID) & (df['successor ID']==successor_id)]['Duration actual in days'].values[0]\n",
    "                day_that_successor_starts = relative_day_that_successor_starts+df[(df['ID']==task_ID) & (df['successor ID']==successor_id)]['actual start day index'].values[0]\n",
    "                #print(\"    which starts on day \", day_that_successor_starts,\"\\n\")\n",
    "\n",
    "                df.loc[df['ID'] == int(successor_id), 'actual start day index'] = day_that_successor_starts\n",
    "\n",
    "    #**************\n",
    "\n",
    "    df['actual end day index'] = df.apply(lambda row: calculate_end_date(row), axis=1)\n",
    "\n",
    "    duration_of_effort_in_days = df['actual end day index'].max()\n",
    "    \n",
    "    durations_list.append(duration_of_effort_in_days)\n",
    "    \n",
    "    if instance_index%5==0:\n",
    "        print(\"loop\",instance_index,\"elapsed\",round(time.time()-start_time,1),'seconds')"
   ]
  },
  {
   "cell_type": "code",
   "execution_count": 11,
   "id": "a6f6147d-2f97-407e-81fa-a64acd2ed94b",
   "metadata": {},
   "outputs": [
    {
     "data": {
      "image/png": "[encoded data removed]",
      "text/plain": [
       "<Figure size 432x288 with 1 Axes>"
      ]
     },
     "metadata": {
      "needs_background": "light"
     },
     "output_type": "display_data"
    }
   ],
   "source": [
    "plt.hist(durations_list)\n",
    "plt.xlabel('duration [days]')\n",
    "plt.title('histogram of duration');"
   ]
  },
  {
   "cell_type": "code",
   "execution_count": null,
   "id": "dacc188f-4172-4178-a787-71812ae60819",
   "metadata": {},
   "outputs": [],
   "source": []
  }
 ],
 "metadata": {
  "kernelspec": {
   "display_name": "Python 3 (ipykernel)",
   "language": "python",
   "name": "python3"
  },
  "language_info": {
   "codemirror_mode": {
    "name": "ipython",
    "version": 3
   },
   "file_extension": ".py",
   "mimetype": "text/x-python",
   "name": "python",
   "nbconvert_exporter": "python",
   "pygments_lexer": "ipython3",
   "version": "3.9.6"
  }
 },
 "nbformat": 4,
 "nbformat_minor": 5
}
