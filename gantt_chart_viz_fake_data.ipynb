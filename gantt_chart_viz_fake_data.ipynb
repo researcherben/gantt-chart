{
 "cells": [
  {
   "cell_type": "markdown",
   "id": "31e25ddc-5efe-4efe-82ae-edea6e5c109f",
   "metadata": {},
   "source": [
    "# How to draw a Gantt chart using Python\n",
    "\n",
    "* https://towardsdatascience.com/gantt-charts-with-pythons-matplotlib-395b7af72d72\n",
    "* https://stackoverflow.com/questions/43367690/how-to-get-gantt-plot-using-matplotlib\n",
    "* https://stackoverflow.com/questions/31820578/how-to-plot-stacked-event-duration-gantt-charts-using-python-pandas"
   ]
  },
  {
   "cell_type": "code",
   "execution_count": 1,
   "id": "caabd619-b7b1-4839-8c6d-a77ef2519781",
   "metadata": {},
   "outputs": [],
   "source": [
    "import pandas\n",
    "import matplotlib.pyplot as plt\n",
    "import datetime\n",
    "import random\n",
    "import time\n",
    "import sys"
   ]
  },
  {
   "cell_type": "code",
   "execution_count": 2,
   "id": "035e99a7-d5c4-4107-a8b0-c3f2bd54d4f3",
   "metadata": {},
   "outputs": [
    {
     "data": {
      "text/plain": [
       "'3.10.8 | packaged by conda-forge | (main, Nov 22 2022, 08:26:04) [GCC 10.4.0]'"
      ]
     },
     "execution_count": 2,
     "metadata": {},
     "output_type": "execute_result"
    }
   ],
   "source": [
    "sys.version"
   ]
  },
  {
   "cell_type": "code",
   "execution_count": 3,
   "id": "90e8efa6-3881-4f2b-a025-2545b2fc0555",
   "metadata": {},
   "outputs": [
    {
     "name": "stdout",
     "output_type": "stream",
     "text": [
      "3.6.2\n"
     ]
    }
   ],
   "source": [
    "import matplotlib\n",
    "print(matplotlib. __version__)"
   ]
  },
  {
   "cell_type": "code",
   "execution_count": 4,
   "id": "aa522735-06b2-45e6-b39c-39f6852a0aac",
   "metadata": {},
   "outputs": [
    {
     "data": {
      "text/plain": [
       "'1.5.2'"
      ]
     },
     "execution_count": 4,
     "metadata": {},
     "output_type": "execute_result"
    }
   ],
   "source": [
    "pandas.__version__"
   ]
  },
  {
   "cell_type": "code",
   "execution_count": 5,
   "id": "c2f4117a-aa3b-4ee9-abb8-b1d224cc5c7e",
   "metadata": {},
   "outputs": [],
   "source": [
    "# source: https://stackoverflow.com/a/553320/1164295\n",
    "    \n",
    "def random_date(start, end, time_format, prop):\n",
    "    \"\"\"Get a time at a proportion of a range of two formatted times.\n",
    "\n",
    "    start and end should be strings specifying times formatted in the\n",
    "    given format (strftime-style), giving an interval [start, end].\n",
    "    prop specifies how a proportion of the interval to be taken after\n",
    "    start.  The returned time will be in the specified format.\n",
    "    \"\"\"\n",
    "\n",
    "    stime = time.mktime(time.strptime(start, time_format))\n",
    "    etime = time.mktime(time.strptime(end, time_format))\n",
    "\n",
    "    ptime = stime + prop * (etime - stime)\n",
    "\n",
    "    return time.strftime(time_format, time.localtime(ptime))\n"
   ]
  },
  {
   "cell_type": "code",
   "execution_count": 6,
   "id": "a5aa3bf9-e2f9-467f-a2ad-cae96355d9b1",
   "metadata": {},
   "outputs": [
    {
     "data": {
      "text/plain": [
       "'2009-02-07'"
      ]
     },
     "execution_count": 6,
     "metadata": {},
     "output_type": "execute_result"
    }
   ],
   "source": [
    "random_date(\"2008-12-23\", \n",
    "            \"2009-05-03\", \n",
    "            '%Y-%m-%d',    # https://strftime.org/\n",
    "            random.random())"
   ]
  },
  {
   "cell_type": "code",
   "execution_count": 7,
   "id": "8c198e34-2af5-4ccf-89e1-f0577f861a8b",
   "metadata": {},
   "outputs": [],
   "source": [
    "overall_start_date = \"2008-12-23\"\n",
    "number_of_children = 2"
   ]
  },
  {
   "cell_type": "code",
   "execution_count": 8,
   "id": "fc2b81ee-7752-4172-80dd-471e87b50936",
   "metadata": {},
   "outputs": [],
   "source": [
    "list_of_jobs = [\n",
    "    {'job id': 1, \n",
    "     'job duration in days, best case': 4,\n",
    "     'job duration in days, worst case': 6,\n",
    "     'follow-on jobs': [2, 3]},\n",
    "    {'job id': 2, \n",
    "     'job duration in days, best case': 1,\n",
    "     'job duration in days, worst case': 8,\n",
    "     'follow-on jobs': [4]},\n",
    "    {'job id': 3, \n",
    "     'job duration in days, best case': 10,\n",
    "     'job duration in days, worst case': 11,\n",
    "     'follow-on jobs': [5]},\n",
    "    {'job id': 4, \n",
    "     'job duration in days, best case': 5,\n",
    "     'job duration in days, worst case': 6,\n",
    "     'follow-on jobs': []},\n",
    "    {'job id': 5, \n",
    "     'job duration in days, best case': 2,\n",
    "     'job duration in days, worst case': 5,\n",
    "     'follow-on jobs': []}\n",
    "]"
   ]
  },
  {
   "cell_type": "code",
   "execution_count": null,
   "id": "3c5f068f-0ef9-42d2-a0fe-e42cec617da9",
   "metadata": {},
   "outputs": [],
   "source": []
  },
  {
   "cell_type": "code",
   "execution_count": 9,
   "id": "60037583-33bb-4099-a964-80f0fdc73a99",
   "metadata": {},
   "outputs": [],
   "source": [
    "df = pandas.DataFrame(list_of_jobs)"
   ]
  },
  {
   "cell_type": "code",
   "execution_count": 10,
   "id": "37b786d0-a49d-4eff-9f4b-a886a782ce37",
   "metadata": {},
   "outputs": [
    {
     "data": {
      "text/html": [
       "<div>\n",
       "<style scoped>\n",
       "    .dataframe tbody tr th:only-of-type {\n",
       "        vertical-align: middle;\n",
       "    }\n",
       "\n",
       "    .dataframe tbody tr th {\n",
       "        vertical-align: top;\n",
       "    }\n",
       "\n",
       "    .dataframe thead th {\n",
       "        text-align: right;\n",
       "    }\n",
       "</style>\n",
       "<table border=\"1\" class=\"dataframe\">\n",
       "  <thead>\n",
       "    <tr style=\"text-align: right;\">\n",
       "      <th></th>\n",
       "      <th>job id</th>\n",
       "      <th>job duration in days, best case</th>\n",
       "      <th>job duration in days, worst case</th>\n",
       "      <th>follow-on jobs</th>\n",
       "    </tr>\n",
       "  </thead>\n",
       "  <tbody>\n",
       "    <tr>\n",
       "      <th>0</th>\n",
       "      <td>1</td>\n",
       "      <td>4</td>\n",
       "      <td>6</td>\n",
       "      <td>[2, 3]</td>\n",
       "    </tr>\n",
       "    <tr>\n",
       "      <th>1</th>\n",
       "      <td>2</td>\n",
       "      <td>1</td>\n",
       "      <td>8</td>\n",
       "      <td>[4]</td>\n",
       "    </tr>\n",
       "    <tr>\n",
       "      <th>2</th>\n",
       "      <td>3</td>\n",
       "      <td>10</td>\n",
       "      <td>11</td>\n",
       "      <td>[5]</td>\n",
       "    </tr>\n",
       "    <tr>\n",
       "      <th>3</th>\n",
       "      <td>4</td>\n",
       "      <td>5</td>\n",
       "      <td>6</td>\n",
       "      <td>[]</td>\n",
       "    </tr>\n",
       "    <tr>\n",
       "      <th>4</th>\n",
       "      <td>5</td>\n",
       "      <td>2</td>\n",
       "      <td>5</td>\n",
       "      <td>[]</td>\n",
       "    </tr>\n",
       "  </tbody>\n",
       "</table>\n",
       "</div>"
      ],
      "text/plain": [
       "   job id  job duration in days, best case  job duration in days, worst case  \\\n",
       "0       1                                4                                 6   \n",
       "1       2                                1                                 8   \n",
       "2       3                               10                                11   \n",
       "3       4                                5                                 6   \n",
       "4       5                                2                                 5   \n",
       "\n",
       "  follow-on jobs  \n",
       "0         [2, 3]  \n",
       "1            [4]  \n",
       "2            [5]  \n",
       "3             []  \n",
       "4             []  "
      ]
     },
     "execution_count": 10,
     "metadata": {},
     "output_type": "execute_result"
    }
   ],
   "source": [
    "df"
   ]
  },
  {
   "cell_type": "code",
   "execution_count": 11,
   "id": "2d1f1591-f21c-4467-a1af-f700827c1d8e",
   "metadata": {},
   "outputs": [
    {
     "data": {
      "text/plain": [
       "1"
      ]
     },
     "execution_count": 11,
     "metadata": {},
     "output_type": "execute_result"
    }
   ],
   "source": [
    "min(df['job id'])"
   ]
  },
  {
   "cell_type": "code",
   "execution_count": 12,
   "id": "0ac42ee1-d9f8-4669-949a-7aad5f77014b",
   "metadata": {},
   "outputs": [
    {
     "data": {
      "text/html": [
       "<div>\n",
       "<style scoped>\n",
       "    .dataframe tbody tr th:only-of-type {\n",
       "        vertical-align: middle;\n",
       "    }\n",
       "\n",
       "    .dataframe tbody tr th {\n",
       "        vertical-align: top;\n",
       "    }\n",
       "\n",
       "    .dataframe thead th {\n",
       "        text-align: right;\n",
       "    }\n",
       "</style>\n",
       "<table border=\"1\" class=\"dataframe\">\n",
       "  <thead>\n",
       "    <tr style=\"text-align: right;\">\n",
       "      <th></th>\n",
       "      <th>job id</th>\n",
       "      <th>job duration in days, best case</th>\n",
       "      <th>job duration in days, worst case</th>\n",
       "      <th>follow-on jobs</th>\n",
       "    </tr>\n",
       "  </thead>\n",
       "  <tbody>\n",
       "    <tr>\n",
       "      <th>0</th>\n",
       "      <td>1</td>\n",
       "      <td>4</td>\n",
       "      <td>6</td>\n",
       "      <td>[2, 3]</td>\n",
       "    </tr>\n",
       "  </tbody>\n",
       "</table>\n",
       "</div>"
      ],
      "text/plain": [
       "   job id  job duration in days, best case  job duration in days, worst case  \\\n",
       "0       1                                4                                 6   \n",
       "\n",
       "  follow-on jobs  \n",
       "0         [2, 3]  "
      ]
     },
     "execution_count": 12,
     "metadata": {},
     "output_type": "execute_result"
    }
   ],
   "source": [
    "df[df['job id']==1]"
   ]
  },
  {
   "cell_type": "code",
   "execution_count": 13,
   "id": "f0b4858d-7d10-481f-8771-6d46bb078d99",
   "metadata": {},
   "outputs": [
    {
     "data": {
      "text/html": [
       "<div>\n",
       "<style scoped>\n",
       "    .dataframe tbody tr th:only-of-type {\n",
       "        vertical-align: middle;\n",
       "    }\n",
       "\n",
       "    .dataframe tbody tr th {\n",
       "        vertical-align: top;\n",
       "    }\n",
       "\n",
       "    .dataframe thead th {\n",
       "        text-align: right;\n",
       "    }\n",
       "</style>\n",
       "<table border=\"1\" class=\"dataframe\">\n",
       "  <thead>\n",
       "    <tr style=\"text-align: right;\">\n",
       "      <th></th>\n",
       "      <th>job id</th>\n",
       "      <th>job duration in days, best case</th>\n",
       "      <th>job duration in days, worst case</th>\n",
       "      <th>follow-on jobs</th>\n",
       "      <th>start date</th>\n",
       "    </tr>\n",
       "  </thead>\n",
       "  <tbody>\n",
       "    <tr>\n",
       "      <th>0</th>\n",
       "      <td>1</td>\n",
       "      <td>4</td>\n",
       "      <td>6</td>\n",
       "      <td>[2, 3]</td>\n",
       "      <td>2008-12-23</td>\n",
       "    </tr>\n",
       "    <tr>\n",
       "      <th>1</th>\n",
       "      <td>2</td>\n",
       "      <td>1</td>\n",
       "      <td>8</td>\n",
       "      <td>[4]</td>\n",
       "      <td>NaN</td>\n",
       "    </tr>\n",
       "    <tr>\n",
       "      <th>2</th>\n",
       "      <td>3</td>\n",
       "      <td>10</td>\n",
       "      <td>11</td>\n",
       "      <td>[5]</td>\n",
       "      <td>NaN</td>\n",
       "    </tr>\n",
       "    <tr>\n",
       "      <th>3</th>\n",
       "      <td>4</td>\n",
       "      <td>5</td>\n",
       "      <td>6</td>\n",
       "      <td>[]</td>\n",
       "      <td>NaN</td>\n",
       "    </tr>\n",
       "    <tr>\n",
       "      <th>4</th>\n",
       "      <td>5</td>\n",
       "      <td>2</td>\n",
       "      <td>5</td>\n",
       "      <td>[]</td>\n",
       "      <td>NaN</td>\n",
       "    </tr>\n",
       "  </tbody>\n",
       "</table>\n",
       "</div>"
      ],
      "text/plain": [
       "   job id  job duration in days, best case  job duration in days, worst case  \\\n",
       "0       1                                4                                 6   \n",
       "1       2                                1                                 8   \n",
       "2       3                               10                                11   \n",
       "3       4                                5                                 6   \n",
       "4       5                                2                                 5   \n",
       "\n",
       "  follow-on jobs  start date  \n",
       "0         [2, 3]  2008-12-23  \n",
       "1            [4]         NaN  \n",
       "2            [5]         NaN  \n",
       "3             []         NaN  \n",
       "4             []         NaN  "
      ]
     },
     "execution_count": 13,
     "metadata": {},
     "output_type": "execute_result"
    }
   ],
   "source": [
    "df.at[0,'start date'] = \"2008-12-23\"\n",
    "df"
   ]
  },
  {
   "cell_type": "code",
   "execution_count": 14,
   "id": "334d39fe-59f6-497f-a432-0423851cd544",
   "metadata": {},
   "outputs": [
    {
     "name": "stdout",
     "output_type": "stream",
     "text": [
      "job id                                       1\n",
      "job duration in days, best case              4\n",
      "job duration in days, worst case             6\n",
      "follow-on jobs                          [2, 3]\n",
      "start date                          2008-12-23\n",
      "Name: 0, dtype: object\n",
      "job id                                2\n",
      "job duration in days, best case       1\n",
      "job duration in days, worst case      8\n",
      "follow-on jobs                      [4]\n",
      "start date                          NaN\n",
      "Name: 1, dtype: object\n",
      "job id                                3\n",
      "job duration in days, best case      10\n",
      "job duration in days, worst case     11\n",
      "follow-on jobs                      [5]\n",
      "start date                          NaN\n",
      "Name: 2, dtype: object\n",
      "job id                                4\n",
      "job duration in days, best case       5\n",
      "job duration in days, worst case      6\n",
      "follow-on jobs                       []\n",
      "start date                          NaN\n",
      "Name: 3, dtype: object\n",
      "job id                                5\n",
      "job duration in days, best case       2\n",
      "job duration in days, worst case      5\n",
      "follow-on jobs                       []\n",
      "start date                          NaN\n",
      "Name: 4, dtype: object\n"
     ]
    }
   ],
   "source": [
    "for k, row in df.iterrows():\n",
    "    print(row)"
   ]
  },
  {
   "cell_type": "code",
   "execution_count": 15,
   "id": "fdf3a738-48a0-4e09-a563-8238c9197108",
   "metadata": {},
   "outputs": [
    {
     "name": "stdout",
     "output_type": "stream",
     "text": [
      "0\n"
     ]
    }
   ],
   "source": [
    "print(random.randint(0, 9))"
   ]
  },
  {
   "cell_type": "code",
   "execution_count": 16,
   "id": "fefd2436-e524-4cbc-a0c2-58100ba90203",
   "metadata": {},
   "outputs": [],
   "source": [
    "def create_random_schedule(df):\n",
    "    \"\"\"\n",
    "    \"\"\"\n",
    "    \n",
    "    return df"
   ]
  },
  {
   "cell_type": "code",
   "execution_count": 17,
   "id": "7e2059a9-f0ea-44d0-910e-4a40d3f1fd86",
   "metadata": {},
   "outputs": [],
   "source": [
    "df_instance = create_random_schedule(df)"
   ]
  },
  {
   "cell_type": "code",
   "execution_count": 18,
   "id": "2c3fef2f-277d-4199-ab5f-9c327618ddcc",
   "metadata": {},
   "outputs": [
    {
     "data": {
      "text/html": [
       "<div>\n",
       "<style scoped>\n",
       "    .dataframe tbody tr th:only-of-type {\n",
       "        vertical-align: middle;\n",
       "    }\n",
       "\n",
       "    .dataframe tbody tr th {\n",
       "        vertical-align: top;\n",
       "    }\n",
       "\n",
       "    .dataframe thead th {\n",
       "        text-align: right;\n",
       "    }\n",
       "</style>\n",
       "<table border=\"1\" class=\"dataframe\">\n",
       "  <thead>\n",
       "    <tr style=\"text-align: right;\">\n",
       "      <th></th>\n",
       "      <th>job id</th>\n",
       "      <th>job duration in days, best case</th>\n",
       "      <th>job duration in days, worst case</th>\n",
       "      <th>follow-on jobs</th>\n",
       "      <th>start date</th>\n",
       "    </tr>\n",
       "  </thead>\n",
       "  <tbody>\n",
       "    <tr>\n",
       "      <th>0</th>\n",
       "      <td>1</td>\n",
       "      <td>4</td>\n",
       "      <td>6</td>\n",
       "      <td>[2, 3]</td>\n",
       "      <td>2008-12-23</td>\n",
       "    </tr>\n",
       "    <tr>\n",
       "      <th>1</th>\n",
       "      <td>2</td>\n",
       "      <td>1</td>\n",
       "      <td>8</td>\n",
       "      <td>[4]</td>\n",
       "      <td>NaN</td>\n",
       "    </tr>\n",
       "    <tr>\n",
       "      <th>2</th>\n",
       "      <td>3</td>\n",
       "      <td>10</td>\n",
       "      <td>11</td>\n",
       "      <td>[5]</td>\n",
       "      <td>NaN</td>\n",
       "    </tr>\n",
       "    <tr>\n",
       "      <th>3</th>\n",
       "      <td>4</td>\n",
       "      <td>5</td>\n",
       "      <td>6</td>\n",
       "      <td>[]</td>\n",
       "      <td>NaN</td>\n",
       "    </tr>\n",
       "    <tr>\n",
       "      <th>4</th>\n",
       "      <td>5</td>\n",
       "      <td>2</td>\n",
       "      <td>5</td>\n",
       "      <td>[]</td>\n",
       "      <td>NaN</td>\n",
       "    </tr>\n",
       "  </tbody>\n",
       "</table>\n",
       "</div>"
      ],
      "text/plain": [
       "   job id  job duration in days, best case  job duration in days, worst case  \\\n",
       "0       1                                4                                 6   \n",
       "1       2                                1                                 8   \n",
       "2       3                               10                                11   \n",
       "3       4                                5                                 6   \n",
       "4       5                                2                                 5   \n",
       "\n",
       "  follow-on jobs  start date  \n",
       "0         [2, 3]  2008-12-23  \n",
       "1            [4]         NaN  \n",
       "2            [5]         NaN  \n",
       "3             []         NaN  \n",
       "4             []         NaN  "
      ]
     },
     "execution_count": 18,
     "metadata": {},
     "output_type": "execute_result"
    }
   ],
   "source": [
    "df_instance"
   ]
  },
  {
   "cell_type": "markdown",
   "id": "a5de7cea-0c6a-4622-ae2b-ceb0102e20eb",
   "metadata": {},
   "source": [
    "TODO: convert `df_instance` to tidy data "
   ]
  },
  {
   "cell_type": "raw",
   "id": "2dc164bd-d060-41db-9360-83ad23b2605c",
   "metadata": {},
   "source": [
    "\n",
    "plt.barh(df['job id'], df['job duration in days, best case'], left=df.start_num)"
   ]
  },
  {
   "cell_type": "code",
   "execution_count": null,
   "id": "021d4ae2-8e44-452a-b949-a676f488864d",
   "metadata": {},
   "outputs": [],
   "source": []
  }
 ],
 "metadata": {
  "kernelspec": {
   "display_name": "Python 3 (ipykernel)",
   "language": "python",
   "name": "python3"
  },
  "language_info": {
   "codemirror_mode": {
    "name": "ipython",
    "version": 3
   },
   "file_extension": ".py",
   "mimetype": "text/x-python",
   "name": "python",
   "nbconvert_exporter": "python",
   "pygments_lexer": "ipython3",
   "version": "3.10.8"
  }
 },
 "nbformat": 4,
 "nbformat_minor": 5
}
