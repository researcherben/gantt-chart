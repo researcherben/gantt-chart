{
 "cells": [
  {
   "cell_type": "code",
   "execution_count": null,
   "id": "ad5f114d-9965-4219-9071-78d57a27fcf3",
   "metadata": {},
   "outputs": [],
   "source": []
  },
  {
   "cell_type": "code",
   "execution_count": 1,
   "id": "49fecb29-3357-4196-a363-290d9c0c8c32",
   "metadata": {},
   "outputs": [
    {
     "name": "stdout",
     "output_type": "stream",
     "text": [
      "1.5.2\n",
      "3.10.8 | packaged by conda-forge | (main, Nov 22 2022, 08:26:04) [GCC 10.4.0]\n"
     ]
    }
   ],
   "source": [
    "import pandas\n",
    "print(pandas.__version__)\n",
    "import sys\n",
    "print(sys.version)"
   ]
  },
  {
   "cell_type": "markdown",
   "id": "7778bf76-4947-44ec-af19-408789d1dff2",
   "metadata": {},
   "source": [
    "# input data structures"
   ]
  },
  {
   "cell_type": "code",
   "execution_count": 2,
   "id": "f92c8e7e-7d25-4639-ba6a-ed8bc2078962",
   "metadata": {},
   "outputs": [],
   "source": [
    "tasks = [\n",
    "{'task ID': 12, \n",
    " 'task description': 'do something',\n",
    " 'task duration [days]': 3,\n",
    " 'list of task dependencies': [],\n",
    " 'earliest start date [YYYY-MM-DD]': '2022-01-01',\n",
    " 'skill set and level': ['typing, intermediate'],\n",
    " 'uncertainty in duration [days]': 1,\n",
    " 'list of equipment dependencies': ['Excel']},\n",
    "{'task ID': 23, \n",
    " 'task description': 'more work',\n",
    " 'task duration [days]': 2,\n",
    " 'list of task dependencies': [12],\n",
    " 'earliest start date [YYYY-MM-DD]': '2022-01-02',\n",
    " 'skill set and level': ['math, beginner'],\n",
    " 'uncertainty in duration [days]': 1,\n",
    " 'list of equipment dependencies': ['Photoshop']},\n",
    "]\n",
    "\n",
    "df_tasks = pandas.DataFrame(tasks)"
   ]
  },
  {
   "cell_type": "code",
   "execution_count": 3,
   "id": "44f5f924-dd3b-4a2b-a0fe-d65e0dd73e4e",
   "metadata": {},
   "outputs": [],
   "source": [
    "people = [\n",
    "{'name': 'Alice',\n",
    " 'list of skills and levels': ['math, intermediate'],\n",
    " 'list of available days [YYYY-MM-DD]': ['2022-02-03'],\n",
    " 'daily rate [USD]': 20},\n",
    "{'name': 'Bob',\n",
    " 'list of skills and levels': ['Excel, beginner'],\n",
    " 'list of available days [YYYY-MM-DD]': ['2021-05-04'],\n",
    " 'daily rate [USD]': 18},\n",
    "]\n",
    "\n",
    "df_people = pandas.DataFrame(people)"
   ]
  },
  {
   "cell_type": "code",
   "execution_count": 4,
   "id": "0024857c-7605-451d-a010-dc597702909b",
   "metadata": {},
   "outputs": [],
   "source": [
    "# here I assume equipment is available as needed -- there's no acquisition delay\n",
    "\n",
    "equipment = [\n",
    "{'name': 'Excel',\n",
    " 'cost per day [USD]': 5,\n",
    " 'acquisition cost [USD]': 20},\n",
    "{'name': 'Photoshop',\n",
    " 'cost per day [USD]': 8,\n",
    " 'acquisition cost [USD]': 30}    \n",
    "]\n",
    "\n",
    "df_equipment = pandas.DataFrame(equipment)"
   ]
  },
  {
   "cell_type": "markdown",
   "id": "28458b9e-1821-4099-8df4-b277d0c9d256",
   "metadata": {},
   "source": [
    "# derived views of the project"
   ]
  },
  {
   "cell_type": "markdown",
   "id": "828f4358-55ff-445c-915f-3e7d0673b1d8",
   "metadata": {},
   "source": [
    "### task Gantt chart"
   ]
  },
  {
   "cell_type": "markdown",
   "id": "112ad28f-36e5-4371-9fe6-596a576cf8ad",
   "metadata": {},
   "source": [
    "This view answers, \"what is the minimum project duration, independent of staffing and equipment?\"\n",
    "\n",
    "Relies on task table"
   ]
  },
  {
   "cell_type": "code",
   "execution_count": 5,
   "id": "3838790b-881b-45f6-941e-94d14cde8cbd",
   "metadata": {},
   "outputs": [
    {
     "data": {
      "text/html": [
       "<div>\n",
       "<style scoped>\n",
       "    .dataframe tbody tr th:only-of-type {\n",
       "        vertical-align: middle;\n",
       "    }\n",
       "\n",
       "    .dataframe tbody tr th {\n",
       "        vertical-align: top;\n",
       "    }\n",
       "\n",
       "    .dataframe thead th {\n",
       "        text-align: right;\n",
       "    }\n",
       "</style>\n",
       "<table border=\"1\" class=\"dataframe\">\n",
       "  <thead>\n",
       "    <tr style=\"text-align: right;\">\n",
       "      <th></th>\n",
       "      <th>task ID</th>\n",
       "      <th>task description</th>\n",
       "      <th>task duration [days]</th>\n",
       "      <th>list of task dependencies</th>\n",
       "      <th>earliest start date [YYYY-MM-DD]</th>\n",
       "      <th>skill set and level</th>\n",
       "      <th>uncertainty in duration [days]</th>\n",
       "      <th>list of equipment dependencies</th>\n",
       "    </tr>\n",
       "  </thead>\n",
       "  <tbody>\n",
       "    <tr>\n",
       "      <th>0</th>\n",
       "      <td>12</td>\n",
       "      <td>do something</td>\n",
       "      <td>3</td>\n",
       "      <td>[]</td>\n",
       "      <td>2022-01-01</td>\n",
       "      <td>[typing, intermediate]</td>\n",
       "      <td>1</td>\n",
       "      <td>[Excel]</td>\n",
       "    </tr>\n",
       "    <tr>\n",
       "      <th>1</th>\n",
       "      <td>23</td>\n",
       "      <td>more work</td>\n",
       "      <td>2</td>\n",
       "      <td>[12]</td>\n",
       "      <td>2022-01-02</td>\n",
       "      <td>[math, beginner]</td>\n",
       "      <td>1</td>\n",
       "      <td>[Photoshop]</td>\n",
       "    </tr>\n",
       "  </tbody>\n",
       "</table>\n",
       "</div>"
      ],
      "text/plain": [
       "   task ID task description  task duration [days] list of task dependencies  \\\n",
       "0       12     do something                     3                        []   \n",
       "1       23        more work                     2                      [12]   \n",
       "\n",
       "  earliest start date [YYYY-MM-DD]     skill set and level  \\\n",
       "0                       2022-01-01  [typing, intermediate]   \n",
       "1                       2022-01-02        [math, beginner]   \n",
       "\n",
       "   uncertainty in duration [days] list of equipment dependencies  \n",
       "0                               1                        [Excel]  \n",
       "1                               1                    [Photoshop]  "
      ]
     },
     "execution_count": 5,
     "metadata": {},
     "output_type": "execute_result"
    }
   ],
   "source": [
    "df_tasks"
   ]
  },
  {
   "cell_type": "code",
   "execution_count": 6,
   "id": "38a68b06-648d-4fc4-8b94-54e1735ae435",
   "metadata": {},
   "outputs": [],
   "source": [
    "# TODO: calculate actual start day index from \"earliest start date [YYYY-MM-DD]\" and \"list of task dependencies\""
   ]
  },
  {
   "cell_type": "raw",
   "id": "9be83fe9-4181-4da8-859a-678b6f8311e4",
   "metadata": {},
   "source": [
    "plt.barh(df['task ID'], df['task duration [days]'], left=df['actual start day index'])\n",
    "plt.ylabel('task ID')\n",
    "plt.xlabel('day index')\n",
    "plt.title(\"Gantt chart\");"
   ]
  },
  {
   "cell_type": "markdown",
   "id": "73fb5fb9-a7b8-49c4-87bf-3a47832be54c",
   "metadata": {},
   "source": [
    "### per-person activity schedule\n",
    "\n",
    "This view answers, \"what is each person working on each day?\"\n",
    "\n",
    "Relies on task table and people table."
   ]
  },
  {
   "cell_type": "code",
   "execution_count": 7,
   "id": "40e04813-b294-43b9-99ae-464fcd60672c",
   "metadata": {},
   "outputs": [],
   "source": [
    "# TODO: align task skill requirements with person skill and person availability"
   ]
  },
  {
   "cell_type": "markdown",
   "id": "69c77a5b-007c-4730-b8dc-824d5aa3acf5",
   "metadata": {},
   "source": [
    "### cost per day (spend rate)"
   ]
  },
  {
   "cell_type": "markdown",
   "id": "fe43ad8c-cc4e-47a5-9bff-efd5929cf87d",
   "metadata": {},
   "source": [
    "This view answers, \"what is the project cost?\"\n",
    "\n",
    "Relies on the activity table, people table, and equipment table."
   ]
  },
  {
   "cell_type": "code",
   "execution_count": 8,
   "id": "d38fe2b7-cbf7-4f62-89d4-8d8d52a78ce7",
   "metadata": {},
   "outputs": [],
   "source": [
    "# TODO: derive cost per day from 3 inputs"
   ]
  }
 ],
 "metadata": {
  "kernelspec": {
   "display_name": "Python 3 (ipykernel)",
   "language": "python",
   "name": "python3"
  },
  "language_info": {
   "codemirror_mode": {
    "name": "ipython",
    "version": 3
   },
   "file_extension": ".py",
   "mimetype": "text/x-python",
   "name": "python",
   "nbconvert_exporter": "python",
   "pygments_lexer": "ipython3",
   "version": "3.10.8"
  }
 },
 "nbformat": 4,
 "nbformat_minor": 5
}
